{
 "cells": [
  {
   "cell_type": "code",
   "execution_count": 1,
   "metadata": {},
   "outputs": [],
   "source": [
    "import os\n",
    "import tensorflow as tf\n",
    "from dataclasses import dataclass\n",
    "from pathlib import Path\n",
    "from gslTranslater.utils.common import read_yaml, create_directories\n",
    "from gslTranslater.constants import *"
   ]
  },
  {
   "cell_type": "code",
   "execution_count": 2,
   "metadata": {},
   "outputs": [],
   "source": [
    "os.chdir(\"../\")"
   ]
  },
  {
   "cell_type": "code",
   "execution_count": 3,
   "metadata": {},
   "outputs": [
    {
     "data": {
      "text/plain": [
       "'d:\\\\Dev\\\\Upwork\\\\GSL\\\\GSL-Project'"
      ]
     },
     "execution_count": 3,
     "metadata": {},
     "output_type": "execute_result"
    }
   ],
   "source": [
    "%pwd"
   ]
  },
  {
   "cell_type": "code",
   "execution_count": 4,
   "metadata": {},
   "outputs": [],
   "source": [
    "@dataclass(frozen=True)\n",
    "class PrepareBaseModelConfig:\n",
    "    root_dir: Path\n",
    "    cnn_lstm_model_path: Path\n",
    "    params_image_size: list\n",
    "    params_weights: str\n",
    "    params_classes: int"
   ]
  },
  {
   "cell_type": "code",
   "execution_count": 5,
   "metadata": {},
   "outputs": [],
   "source": [
    "class ConfigurationManager:\n",
    "    def __init__(\n",
    "        self, \n",
    "        config_filepath=CONFIG_FILE_PATH, \n",
    "        params_filepath=PARAMS_FILE_PATH):\n",
    "        \n",
    "        self.config = read_yaml(config_filepath)\n",
    "        self.params = read_yaml(params_filepath)\n",
    "        \n",
    "        create_directories([self.config.artifacts_root])\n",
    "\n",
    "    def get_prepare_base_model_config(self) -> PrepareBaseModelConfig:\n",
    "        prepare_base_model = self.config.prepare_base_model\n",
    "        params = self.params\n",
    "\n",
    "        prepare_base_model_config = PrepareBaseModelConfig(\n",
    "            root_dir=Path(prepare_base_model.root_dir),\n",
    "            cnn_lstm_model_path=Path(prepare_base_model.cnn_lstm_model_path),\n",
    "            params_image_size=params.IMAGE_SIZE,\n",
    "            params_weights=params.WEIGHTS,\n",
    "            params_classes=params.CLASSES\n",
    "        )\n",
    "\n",
    "        return prepare_base_model_config"
   ]
  },
  {
   "cell_type": "code",
   "execution_count": 6,
   "metadata": {},
   "outputs": [],
   "source": [
    "class PrepareBaseModel:\n",
    "    def __init__(self, config: PrepareBaseModelConfig):\n",
    "        self.config = config\n",
    "\n",
    "    def prepare_model(self):\n",
    "        # Load the pretrained ResNet50 model without the top layer\n",
    "        cnn_base = tf.keras.applications.ResNet50(\n",
    "            weights=self.config.params_weights,\n",
    "            include_top=False,\n",
    "            input_shape=tuple(self.config.params_image_size)\n",
    "        )\n",
    "\n",
    "        # Freeze the CNN layers\n",
    "        for layer in cnn_base.layers:\n",
    "            layer.trainable = False\n",
    "\n",
    "        # Define the full model architecture\n",
    "        model = tf.keras.Sequential()\n",
    "\n",
    "        # TimeDistributed layer applies the CNN to each frame independently\n",
    "        model.add(tf.keras.layers.TimeDistributed(cnn_base, input_shape=(None, *self.config.params_image_size)))\n",
    "        model.add(tf.keras.layers.TimeDistributed(tf.keras.layers.Flatten()))\n",
    "\n",
    "        # Add Masking layer to handle padded frames\n",
    "        model.add(tf.keras.layers.Masking(mask_value=0.0))\n",
    "\n",
    "        # LSTM layer processes the sequence of frame features\n",
    "        model.add(tf.keras.layers.LSTM(self.config.params_classes, return_sequences=False))\n",
    "\n",
    "        # Save the model\n",
    "        model.save(self.config.cnn_lstm_model_path)\n",
    "        print(f\"CNN-LSTM base model saved successfully at {self.config.cnn_lstm_model_path}\")\n"
   ]
  },
  {
   "cell_type": "code",
   "execution_count": 7,
   "metadata": {},
   "outputs": [
    {
     "name": "stdout",
     "output_type": "stream",
     "text": [
      "[2024-08-28 22:12:46,403: INFO: common: yaml file: config\\config.yaml loaded successfully]\n",
      "[2024-08-28 22:12:46,406: INFO: common: yaml file: params.yaml loaded successfully]\n",
      "[2024-08-28 22:12:46,408: INFO: common: created directory at: artifacts]\n",
      "WARNING:tensorflow:Compiled the loaded model, but the compiled metrics have yet to be built. `model.compile_metrics` will be empty until you train or evaluate the model.\n",
      "[2024-08-28 22:12:49,181: WARNING: saving_utils: Compiled the loaded model, but the compiled metrics have yet to be built. `model.compile_metrics` will be empty until you train or evaluate the model.]\n",
      "[2024-08-28 22:13:09,714: WARNING: save: Found untraced functions such as lstm_cell_layer_call_fn, lstm_cell_layer_call_and_return_conditional_losses, _jit_compiled_convolution_op, _jit_compiled_convolution_op, _jit_compiled_convolution_op while saving (showing 5 of 55). These functions will not be directly callable after loading.]\n",
      "INFO:tensorflow:Assets written to: artifacts\\prepare_base_model\\cnn_lstm_model.pth\\assets\n",
      "[2024-08-28 22:13:17,154: INFO: builder_impl: Assets written to: artifacts\\prepare_base_model\\cnn_lstm_model.pth\\assets]\n",
      "CNN-LSTM base model saved successfully at artifacts\\prepare_base_model\\cnn_lstm_model.pth\n"
     ]
    }
   ],
   "source": [
    "try:\n",
    "    config = ConfigurationManager()\n",
    "    prepare_base_model_config = config.get_prepare_base_model_config()\n",
    "    prepare_base_model = PrepareBaseModel(config=prepare_base_model_config)\n",
    "    prepare_base_model.prepare_model()\n",
    "\n",
    "except Exception as e:\n",
    "    raise e"
   ]
  },
  {
   "cell_type": "code",
   "execution_count": null,
   "metadata": {},
   "outputs": [],
   "source": []
  }
 ],
 "metadata": {
  "kernelspec": {
   "display_name": ".venv",
   "language": "python",
   "name": "python3"
  },
  "language_info": {
   "codemirror_mode": {
    "name": "ipython",
    "version": 3
   },
   "file_extension": ".py",
   "mimetype": "text/x-python",
   "name": "python",
   "nbconvert_exporter": "python",
   "pygments_lexer": "ipython3",
   "version": "3.8.0"
  }
 },
 "nbformat": 4,
 "nbformat_minor": 2
}
