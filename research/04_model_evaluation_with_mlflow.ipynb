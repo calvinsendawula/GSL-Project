{
 "cells": [
  {
   "cell_type": "code",
   "execution_count": 1,
   "metadata": {},
   "outputs": [],
   "source": [
    "import os\n",
    "from dataclasses import dataclass\n",
    "from pathlib import Path\n",
    "import torch\n",
    "import pandas as pd\n",
    "import numpy as np\n",
    "import mlflow\n",
    "import dagshub\n",
    "import tensorflow as tf\n",
    "from torch import nn\n",
    "from torch.utils.data import DataLoader, TensorDataset\n",
    "from sklearn.preprocessing import LabelEncoder\n",
    "from gslTranslater.utils.common import read_yaml, create_directories, save_json\n",
    "from gslTranslater.constants import *\n",
    "from urllib.parse import urlparse"
   ]
  },
  {
   "cell_type": "code",
   "execution_count": 2,
   "metadata": {},
   "outputs": [],
   "source": [
    "os.chdir(\"../\")"
   ]
  },
  {
   "cell_type": "code",
   "execution_count": 3,
   "metadata": {},
   "outputs": [
    {
     "data": {
      "text/plain": [
       "'d:\\\\Dev\\\\Upwork\\\\GSL\\\\GSL-Project'"
      ]
     },
     "execution_count": 3,
     "metadata": {},
     "output_type": "execute_result"
    }
   ],
   "source": [
    "%pwd"
   ]
  },
  {
   "cell_type": "code",
   "execution_count": 5,
   "metadata": {},
   "outputs": [],
   "source": [
    "@dataclass(frozen=True)\n",
    "class EvaluationConfig:\n",
    "    path_of_model: Path\n",
    "    test_csv: Path\n",
    "    mlflow_uri: str\n",
    "    max_seq_length: int\n",
    "    image_size: list\n",
    "    batch_size: int\n",
    "    all_params: dict"
   ]
  },
  {
   "cell_type": "code",
   "execution_count": 6,
   "metadata": {},
   "outputs": [],
   "source": [
    "class ConfigurationManager:\n",
    "    def __init__(\n",
    "        self, \n",
    "        config_filepath=CONFIG_FILE_PATH, \n",
    "        params_filepath=PARAMS_FILE_PATH):\n",
    "        \n",
    "        self.config = read_yaml(config_filepath)\n",
    "        self.params = read_yaml(params_filepath)\n",
    "        \n",
    "        create_directories([self.config.artifacts_root])\n",
    "\n",
    "    def get_evaluation_config(self) -> EvaluationConfig:\n",
    "        evaluation = self.config.evaluation\n",
    "        data_ingestion = self.config.data_ingestion\n",
    "        return EvaluationConfig(\n",
    "            path_of_model=Path(self.config.training.trained_model_path),\n",
    "            test_csv=Path(data_ingestion.test_csv),\n",
    "            mlflow_uri=evaluation.mlflow_uri,\n",
    "            max_seq_length=self.params.MAX_SEQ_LENGTH,\n",
    "            image_size=self.params.IMAGE_SIZE,\n",
    "            batch_size=self.params.BATCH_SIZE,\n",
    "            all_params=self.params\n",
    "        )"
   ]
  },
  {
   "cell_type": "code",
   "execution_count": 7,
   "metadata": {},
   "outputs": [],
   "source": [
    "class Evaluation:\n",
    "    def __init__(self, config: EvaluationConfig):\n",
    "        self.config = config\n",
    "        self.model = None\n",
    "\n",
    "    def load_data(self, csv_path):\n",
    "        df = pd.read_csv(csv_path)\n",
    "\n",
    "        # Filter for the selected unique words\n",
    "        df = df[df['Gloss'].isin(df['Gloss'].unique()[:self.config.all_params['NUM_UNIQUE_WORDS']])]\n",
    "\n",
    "        # Ensure we're selecting only one instance per word\n",
    "        df = df.groupby('Gloss').head(1).reset_index(drop=True)\n",
    "\n",
    "        data = []\n",
    "        labels = []\n",
    "\n",
    "        for _, row in df.iterrows():\n",
    "            frames_path = os.path.join(self.config.root_dir, row['Path'])\n",
    "            frames = sorted([os.path.join(frames_path, img) for img in os.listdir(frames_path) if img.endswith('.jpg')])\n",
    "\n",
    "            sequence = []\n",
    "            for frame in frames:\n",
    "                image = tf.keras.preprocessing.image.load_img(frame, target_size=tuple(self.config.image_size[:-1]))\n",
    "                image = tf.keras.preprocessing.image.img_to_array(image)\n",
    "                image = tf.keras.applications.resnet.preprocess_input(image)\n",
    "                sequence.append(image)\n",
    "\n",
    "            data.append(sequence)\n",
    "            labels.append(row['Gloss'])\n",
    "\n",
    "        # Pad sequences to ensure uniform shape\n",
    "        data = tf.keras.preprocessing.sequence.pad_sequences(data, maxlen=self.config.max_seq_length, padding='post', dtype='float32')\n",
    "        labels = np.array(labels)\n",
    "\n",
    "        return data, labels\n",
    "\n",
    "    def encode_labels(self, labels):\n",
    "        label_encoder = LabelEncoder()\n",
    "        labels = label_encoder.fit_transform(labels)\n",
    "        labels = torch.tensor(labels)\n",
    "        labels = nn.functional.one_hot(labels, num_classes=len(np.unique(labels))).float()\n",
    "        return labels\n",
    "\n",
    "    def load_model(self, path: Path):\n",
    "        self.model = torch.load(path)\n",
    "        self.model.eval()\n",
    "\n",
    "    def evaluate(self):\n",
    "        test_data, test_labels = self.load_data(self.config.test_csv)\n",
    "        test_labels = self.encode_labels(test_labels)\n",
    "\n",
    "        test_loader = DataLoader(TensorDataset(torch.tensor(test_data), test_labels), batch_size=self.config.batch_size)\n",
    "\n",
    "        total_loss = 0\n",
    "        total_accuracy = 0\n",
    "\n",
    "        criterion = nn.CrossEntropyLoss()\n",
    "\n",
    "        with torch.no_grad():\n",
    "            for data, labels in test_loader:\n",
    "                output = self.model(data)\n",
    "                loss = criterion(output, labels)\n",
    "                total_loss += loss.item()\n",
    "                total_accuracy += (output.argmax(dim=1) == labels.argmax(dim=1)).float().mean().item()\n",
    "\n",
    "        avg_loss = total_loss / len(test_loader)\n",
    "        avg_accuracy = total_accuracy / len(test_loader)\n",
    "\n",
    "        print(f'Test Loss: {avg_loss}, Test Accuracy: {avg_accuracy * 100:.2f}%')\n",
    "\n",
    "        return avg_loss, avg_accuracy\n",
    "\n",
    "    def save_score(self, avg_loss, avg_accuracy):\n",
    "        scores = {\"loss\": avg_loss, \"accuracy\": avg_accuracy}\n",
    "        save_json(path=Path(\"scores.json\"), data=scores)\n",
    "\n",
    "    def log_into_mlflow(self, avg_loss, avg_accuracy):\n",
    "        mlflow.set_tracking_uri(self.config.mlflow_uri)\n",
    "        tracking_url_type_store = urlparse(mlflow.get_tracking_uri()).scheme\n",
    "\n",
    "        with mlflow.start_run():\n",
    "            mlflow.log_params(self.config.all_params)\n",
    "            mlflow.log_metrics({\"test_loss\": avg_loss, \"test_accuracy\": avg_accuracy})\n",
    "\n",
    "            # Register the model if not using a file store\n",
    "            if tracking_url_type_store != \"file\":\n",
    "                mlflow.pytorch.log_model(self.model, \"model\", registered_model_name=\"CNN_LSTM_Model\")\n",
    "            else:\n",
    "                mlflow.pytorch.log_model(self.model, \"model\")"
   ]
  },
  {
   "cell_type": "code",
   "execution_count": 8,
   "metadata": {},
   "outputs": [
    {
     "name": "stdout",
     "output_type": "stream",
     "text": [
      "[2024-08-30 14:27:19,997: INFO: common: yaml file: config\\config.yaml loaded successfully]\n",
      "[2024-08-30 14:27:20,013: INFO: common: yaml file: params.yaml loaded successfully]\n",
      "[2024-08-30 14:27:20,015: INFO: common: created directory at: artifacts]\n"
     ]
    },
    {
     "name": "stderr",
     "output_type": "stream",
     "text": [
      "C:\\Users\\ALIENWARE M15\\AppData\\Local\\Temp\\ipykernel_11964\\1821459078.py:46: FutureWarning: You are using `torch.load` with `weights_only=False` (the current default value), which uses the default pickle module implicitly. It is possible to construct malicious pickle data which will execute arbitrary code during unpickling (See https://github.com/pytorch/pytorch/blob/main/SECURITY.md#untrusted-models for more details). In a future release, the default value for `weights_only` will be flipped to `True`. This limits the functions that could be executed during unpickling. Arbitrary objects will no longer be allowed to be loaded via this mode unless they are explicitly allowlisted by the user via `torch.serialization.add_safe_globals`. We recommend you start setting `weights_only=True` for any use case where you don't have full control of the loaded file. Please open an issue on GitHub for any issues related to this experimental feature.\n",
      "  self.model = torch.load(path)\n"
     ]
    },
    {
     "ename": "PermissionError",
     "evalue": "[Errno 13] Permission denied: 'artifacts\\\\training\\\\cnn_lstm_model_trained.pth'",
     "output_type": "error",
     "traceback": [
      "\u001b[1;31m---------------------------------------------------------------------------\u001b[0m",
      "\u001b[1;31mPermissionError\u001b[0m                           Traceback (most recent call last)",
      "Cell \u001b[1;32mIn[8], line 10\u001b[0m\n\u001b[0;32m      8\u001b[0m     model_evaluation\u001b[38;5;241m.\u001b[39mlog_into_mlflow(avg_loss, avg_accuracy)\n\u001b[0;32m      9\u001b[0m \u001b[38;5;28;01mexcept\u001b[39;00m \u001b[38;5;167;01mException\u001b[39;00m \u001b[38;5;28;01mas\u001b[39;00m e:\n\u001b[1;32m---> 10\u001b[0m     \u001b[38;5;28;01mraise\u001b[39;00m e\n",
      "Cell \u001b[1;32mIn[8], line 5\u001b[0m\n\u001b[0;32m      3\u001b[0m evaluation_config \u001b[38;5;241m=\u001b[39m config\u001b[38;5;241m.\u001b[39mget_evaluation_config()\n\u001b[0;32m      4\u001b[0m model_evaluation \u001b[38;5;241m=\u001b[39m Evaluation(config\u001b[38;5;241m=\u001b[39mevaluation_config)\n\u001b[1;32m----> 5\u001b[0m \u001b[43mmodel_evaluation\u001b[49m\u001b[38;5;241;43m.\u001b[39;49m\u001b[43mload_model\u001b[49m\u001b[43m(\u001b[49m\u001b[43mevaluation_config\u001b[49m\u001b[38;5;241;43m.\u001b[39;49m\u001b[43mpath_of_model\u001b[49m\u001b[43m)\u001b[49m\n\u001b[0;32m      6\u001b[0m avg_loss, avg_accuracy \u001b[38;5;241m=\u001b[39m model_evaluation\u001b[38;5;241m.\u001b[39mevaluate()\n\u001b[0;32m      7\u001b[0m model_evaluation\u001b[38;5;241m.\u001b[39msave_score(avg_loss, avg_accuracy)\n",
      "Cell \u001b[1;32mIn[7], line 46\u001b[0m, in \u001b[0;36mEvaluation.load_model\u001b[1;34m(self, path)\u001b[0m\n\u001b[0;32m     45\u001b[0m \u001b[38;5;28;01mdef\u001b[39;00m \u001b[38;5;21mload_model\u001b[39m(\u001b[38;5;28mself\u001b[39m, path: Path):\n\u001b[1;32m---> 46\u001b[0m     \u001b[38;5;28mself\u001b[39m\u001b[38;5;241m.\u001b[39mmodel \u001b[38;5;241m=\u001b[39m \u001b[43mtorch\u001b[49m\u001b[38;5;241;43m.\u001b[39;49m\u001b[43mload\u001b[49m\u001b[43m(\u001b[49m\u001b[43mpath\u001b[49m\u001b[43m)\u001b[49m\n\u001b[0;32m     47\u001b[0m     \u001b[38;5;28mself\u001b[39m\u001b[38;5;241m.\u001b[39mmodel\u001b[38;5;241m.\u001b[39meval()\n",
      "File \u001b[1;32md:\\Dev\\Upwork\\GSL\\GSL-Project\\.venv\\lib\\site-packages\\torch\\serialization.py:1065\u001b[0m, in \u001b[0;36mload\u001b[1;34m(f, map_location, pickle_module, weights_only, mmap, **pickle_load_args)\u001b[0m\n\u001b[0;32m   1062\u001b[0m \u001b[38;5;28;01mif\u001b[39;00m \u001b[38;5;124m'\u001b[39m\u001b[38;5;124mencoding\u001b[39m\u001b[38;5;124m'\u001b[39m \u001b[38;5;129;01mnot\u001b[39;00m \u001b[38;5;129;01min\u001b[39;00m pickle_load_args\u001b[38;5;241m.\u001b[39mkeys():\n\u001b[0;32m   1063\u001b[0m     pickle_load_args[\u001b[38;5;124m'\u001b[39m\u001b[38;5;124mencoding\u001b[39m\u001b[38;5;124m'\u001b[39m] \u001b[38;5;241m=\u001b[39m \u001b[38;5;124m'\u001b[39m\u001b[38;5;124mutf-8\u001b[39m\u001b[38;5;124m'\u001b[39m\n\u001b[1;32m-> 1065\u001b[0m \u001b[38;5;28;01mwith\u001b[39;00m \u001b[43m_open_file_like\u001b[49m\u001b[43m(\u001b[49m\u001b[43mf\u001b[49m\u001b[43m,\u001b[49m\u001b[43m \u001b[49m\u001b[38;5;124;43m'\u001b[39;49m\u001b[38;5;124;43mrb\u001b[39;49m\u001b[38;5;124;43m'\u001b[39;49m\u001b[43m)\u001b[49m \u001b[38;5;28;01mas\u001b[39;00m opened_file:\n\u001b[0;32m   1066\u001b[0m     \u001b[38;5;28;01mif\u001b[39;00m _is_zipfile(opened_file):\n\u001b[0;32m   1067\u001b[0m         \u001b[38;5;66;03m# The zipfile reader is going to advance the current file position.\u001b[39;00m\n\u001b[0;32m   1068\u001b[0m         \u001b[38;5;66;03m# If we want to actually tail call to torch.jit.load, we need to\u001b[39;00m\n\u001b[0;32m   1069\u001b[0m         \u001b[38;5;66;03m# reset back to the original position.\u001b[39;00m\n\u001b[0;32m   1070\u001b[0m         orig_position \u001b[38;5;241m=\u001b[39m opened_file\u001b[38;5;241m.\u001b[39mtell()\n",
      "File \u001b[1;32md:\\Dev\\Upwork\\GSL\\GSL-Project\\.venv\\lib\\site-packages\\torch\\serialization.py:468\u001b[0m, in \u001b[0;36m_open_file_like\u001b[1;34m(name_or_buffer, mode)\u001b[0m\n\u001b[0;32m    466\u001b[0m \u001b[38;5;28;01mdef\u001b[39;00m \u001b[38;5;21m_open_file_like\u001b[39m(name_or_buffer, mode):\n\u001b[0;32m    467\u001b[0m     \u001b[38;5;28;01mif\u001b[39;00m _is_path(name_or_buffer):\n\u001b[1;32m--> 468\u001b[0m         \u001b[38;5;28;01mreturn\u001b[39;00m \u001b[43m_open_file\u001b[49m\u001b[43m(\u001b[49m\u001b[43mname_or_buffer\u001b[49m\u001b[43m,\u001b[49m\u001b[43m \u001b[49m\u001b[43mmode\u001b[49m\u001b[43m)\u001b[49m\n\u001b[0;32m    469\u001b[0m     \u001b[38;5;28;01melse\u001b[39;00m:\n\u001b[0;32m    470\u001b[0m         \u001b[38;5;28;01mif\u001b[39;00m \u001b[38;5;124m'\u001b[39m\u001b[38;5;124mw\u001b[39m\u001b[38;5;124m'\u001b[39m \u001b[38;5;129;01min\u001b[39;00m mode:\n",
      "File \u001b[1;32md:\\Dev\\Upwork\\GSL\\GSL-Project\\.venv\\lib\\site-packages\\torch\\serialization.py:449\u001b[0m, in \u001b[0;36m_open_file.__init__\u001b[1;34m(self, name, mode)\u001b[0m\n\u001b[0;32m    448\u001b[0m \u001b[38;5;28;01mdef\u001b[39;00m \u001b[38;5;21m__init__\u001b[39m(\u001b[38;5;28mself\u001b[39m, name, mode):\n\u001b[1;32m--> 449\u001b[0m     \u001b[38;5;28msuper\u001b[39m()\u001b[38;5;241m.\u001b[39m\u001b[38;5;21m__init__\u001b[39m(\u001b[38;5;28;43mopen\u001b[39;49m\u001b[43m(\u001b[49m\u001b[43mname\u001b[49m\u001b[43m,\u001b[49m\u001b[43m \u001b[49m\u001b[43mmode\u001b[49m\u001b[43m)\u001b[49m)\n",
      "\u001b[1;31mPermissionError\u001b[0m: [Errno 13] Permission denied: 'artifacts\\\\training\\\\cnn_lstm_model_trained.pth'"
     ]
    }
   ],
   "source": [
    "try:\n",
    "    config = ConfigurationManager()\n",
    "    evaluation_config = config.get_evaluation_config()\n",
    "    model_evaluation = Evaluation(config=evaluation_config)\n",
    "    model_evaluation.load_model(evaluation_config.path_of_model)\n",
    "    avg_loss, avg_accuracy = model_evaluation.evaluate()\n",
    "    model_evaluation.save_score(avg_loss, avg_accuracy)\n",
    "    model_evaluation.log_into_mlflow(avg_loss, avg_accuracy)\n",
    "except Exception as e:\n",
    "    raise e"
   ]
  }
 ],
 "metadata": {
  "kernelspec": {
   "display_name": ".venv",
   "language": "python",
   "name": "python3"
  },
  "language_info": {
   "codemirror_mode": {
    "name": "ipython",
    "version": 3
   },
   "file_extension": ".py",
   "mimetype": "text/x-python",
   "name": "python",
   "nbconvert_exporter": "python",
   "pygments_lexer": "ipython3",
   "version": "3.8.0"
  }
 },
 "nbformat": 4,
 "nbformat_minor": 2
}
